{
 "cells": [
  {
   "cell_type": "markdown",
   "metadata": {},
   "source": [
    "# Using Bokeh at NIST\n",
    "\n",
    "Fire research at the National Institute of Standards and Technology (NIST) dates back to the early 1900's following the need for a standardized fire hydrant coupling after the Great Baltimore Fire. Fast-forward to the 1980s and for the last 30 years, NIST researchers have been performaning experiments and running computer simulations following fire incidents to advance the field of fire safety.\n",
    "\n",
    "NIST researchers wrote detailed reports of their work following these fires, but an intuitive, centralized source of this material did not exist. Therefore, we wanted to build an interface to fix this. As users of Anaconda Python, we felt a map that showed where the fires occured with interactivity to link to the reports would be a good first Bokeh project."
   ]
  },
  {
   "cell_type": "code",
   "execution_count": 1,
   "metadata": {
    "collapsed": false
   },
   "outputs": [
    {
     "data": {
      "text/html": [
       "\n",
       "\n",
       "    <script type=\"text/javascript\">\n",
       "      \n",
       "      (function(global) {\n",
       "        function now() {\n",
       "          return new Date();\n",
       "        }\n",
       "      \n",
       "        if (typeof (window._bokeh_onload_callbacks) === \"undefined\") {\n",
       "          window._bokeh_onload_callbacks = [];\n",
       "        }\n",
       "      \n",
       "        function run_callbacks() {\n",
       "          window._bokeh_onload_callbacks.forEach(function(callback) { callback() });\n",
       "          delete window._bokeh_onload_callbacks\n",
       "          console.info(\"Bokeh: all callbacks have finished\");\n",
       "        }\n",
       "      \n",
       "        function load_libs(js_urls, callback) {\n",
       "          window._bokeh_onload_callbacks.push(callback);\n",
       "          if (window._bokeh_is_loading > 0) {\n",
       "            console.log(\"Bokeh: BokehJS is being loaded, scheduling callback at\", now());\n",
       "            return null;\n",
       "          }\n",
       "          if (js_urls == null || js_urls.length === 0) {\n",
       "            run_callbacks();\n",
       "            return null;\n",
       "          }\n",
       "          console.log(\"Bokeh: BokehJS not loaded, scheduling load and callback at\", now());\n",
       "          window._bokeh_is_loading = js_urls.length;\n",
       "          for (var i = 0; i < js_urls.length; i++) {\n",
       "            var url = js_urls[i];\n",
       "            var s = document.createElement('script');\n",
       "            s.src = url;\n",
       "            s.async = false;\n",
       "            s.onreadystatechange = s.onload = function() {\n",
       "              window._bokeh_is_loading--;\n",
       "              if (window._bokeh_is_loading === 0) {\n",
       "                console.log(\"Bokeh: all BokehJS libraries loaded\");\n",
       "                run_callbacks()\n",
       "              }\n",
       "            };\n",
       "            s.onerror = function() {\n",
       "              console.warn(\"failed to load library \" + url);\n",
       "            };\n",
       "            console.log(\"Bokeh: injecting script tag for BokehJS library: \", url);\n",
       "            document.getElementsByTagName(\"head\")[0].appendChild(s);\n",
       "          }\n",
       "        };var js_urls = ['https://cdn.pydata.org/bokeh/release/bokeh-0.11.0.min.js', 'https://cdn.pydata.org/bokeh/release/bokeh-widgets-0.11.0.min.js', 'https://cdn.pydata.org/bokeh/release/bokeh-compiler-0.11.0.min.js'];\n",
       "      \n",
       "        var inline_js = [\n",
       "          function(Bokeh) {\n",
       "            Bokeh.set_log_level(\"info\");\n",
       "          },\n",
       "          function(Bokeh) {\n",
       "            console.log(\"Bokeh: injecting CSS: https://cdn.pydata.org/bokeh/release/bokeh-0.11.0.min.css\");\n",
       "            Bokeh.embed.inject_css(\"https://cdn.pydata.org/bokeh/release/bokeh-0.11.0.min.css\");\n",
       "            console.log(\"Bokeh: injecting CSS: https://cdn.pydata.org/bokeh/release/bokeh-widgets-0.11.0.min.css\");\n",
       "            Bokeh.embed.inject_css(\"https://cdn.pydata.org/bokeh/release/bokeh-widgets-0.11.0.min.css\");\n",
       "          }\n",
       "        ];\n",
       "      \n",
       "        function run_inline_js() {\n",
       "          for (var i = 0; i < inline_js.length; i++) {\n",
       "            inline_js[i](window.Bokeh);\n",
       "          }\n",
       "        }\n",
       "      \n",
       "        if (window._bokeh_is_loading === 0) {\n",
       "          console.log(\"Bokeh: BokehJS loaded, going straight to plotting\");\n",
       "          run_inline_js();\n",
       "        } else {\n",
       "          load_libs(js_urls, function() {\n",
       "            console.log(\"Bokeh: BokehJS plotting callback run at\", now());\n",
       "            run_inline_js();\n",
       "          });\n",
       "        }\n",
       "      }(this));\n",
       "    </script>\n",
       "    <div>\n",
       "        <a href=\"http://bokeh.pydata.org\" target=\"_blank\" class=\"bk-logo bk-logo-small bk-logo-notebook\"></a>\n",
       "        <span>BokehJS successfully loaded.</span>\n",
       "    </div>"
      ]
     },
     "metadata": {},
     "output_type": "display_data"
    }
   ],
   "source": [
    "import pandas as pd\n",
    "from bokeh.models.glyphs import Circle\n",
    "from bokeh.plotting import show, output_notebook,figure\n",
    "from bokeh.models import (\n",
    "    GMapPlot, GMapOptions, Range1d, ColumnDataSource, LinearAxis,\n",
    "    PanTool, WheelZoomTool,HoverTool, TapTool, OpenURL)\n",
    "output_notebook()"
   ]
  },
  {
   "cell_type": "markdown",
   "metadata": {},
   "source": [
    "# First, let's load and take a look at the data file of fires."
   ]
  },
  {
   "cell_type": "code",
   "execution_count": 2,
   "metadata": {
    "collapsed": false
   },
   "outputs": [
    {
     "data": {
      "text/html": [
       "<div>\n",
       "<table border=\"1\" class=\"dataframe\">\n",
       "  <thead>\n",
       "    <tr style=\"text-align: right;\">\n",
       "      <th></th>\n",
       "      <th>Study</th>\n",
       "      <th>Latitude</th>\n",
       "      <th>Longitude</th>\n",
       "      <th>Color</th>\n",
       "      <th>Type</th>\n",
       "      <th>Date</th>\n",
       "      <th>Report</th>\n",
       "    </tr>\n",
       "  </thead>\n",
       "  <tbody>\n",
       "    <tr>\n",
       "      <th>0</th>\n",
       "      <td>Simulation of an Attic Fire in a Wood Frame Re...</td>\n",
       "      <td>41.802088</td>\n",
       "      <td>-87.681981</td>\n",
       "      <td>Navy</td>\n",
       "      <td>LODD/LODI</td>\n",
       "      <td>2-Nov-12</td>\n",
       "      <td>http://dx.doi.org/10.6028/NIST.TN.1838</td>\n",
       "    </tr>\n",
       "    <tr>\n",
       "      <th>1</th>\n",
       "      <td>Simulation of a Fire in a Hillside Residential...</td>\n",
       "      <td>37.739505</td>\n",
       "      <td>-122.439223</td>\n",
       "      <td>Navy</td>\n",
       "      <td>LODD/LODI</td>\n",
       "      <td>2-Jun-11</td>\n",
       "      <td>http://dx.doi.org/10.6028/NIST.TN.1856</td>\n",
       "    </tr>\n",
       "    <tr>\n",
       "      <th>2</th>\n",
       "      <td>Simulation of a Residential Wind Driven Baseme...</td>\n",
       "      <td>38.965891</td>\n",
       "      <td>-76.917754</td>\n",
       "      <td>Navy</td>\n",
       "      <td>LODD/LODI</td>\n",
       "      <td>24-Feb-12</td>\n",
       "      <td>http://dx.doi.org/10.6028/NIST.TN.1870</td>\n",
       "    </tr>\n",
       "    <tr>\n",
       "      <th>3</th>\n",
       "      <td>Simulation of the Dynamics of a Wind-Driven Fi...</td>\n",
       "      <td>29.679490</td>\n",
       "      <td>-95.282329</td>\n",
       "      <td>Navy</td>\n",
       "      <td>LODD/LODI</td>\n",
       "      <td>12-Apr-09</td>\n",
       "      <td>http://www.nist.gov/customcf/get_pdf.cfm?pub_i...</td>\n",
       "    </tr>\n",
       "    <tr>\n",
       "      <th>4</th>\n",
       "      <td>Simulation of the Dynamics of a Fire in a Two-...</td>\n",
       "      <td>40.404689</td>\n",
       "      <td>-91.382416</td>\n",
       "      <td>Red</td>\n",
       "      <td>LODD/LODI &amp; Civilian Loss</td>\n",
       "      <td>22-Dec-99</td>\n",
       "      <td>http://www.nist.gov/customcf/get_pdf.cfm?pub_i...</td>\n",
       "    </tr>\n",
       "  </tbody>\n",
       "</table>\n",
       "</div>"
      ],
      "text/plain": [
       "                                               Study   Latitude   Longitude  \\\n",
       "0  Simulation of an Attic Fire in a Wood Frame Re...  41.802088  -87.681981   \n",
       "1  Simulation of a Fire in a Hillside Residential...  37.739505 -122.439223   \n",
       "2  Simulation of a Residential Wind Driven Baseme...  38.965891  -76.917754   \n",
       "3  Simulation of the Dynamics of a Wind-Driven Fi...  29.679490  -95.282329   \n",
       "4  Simulation of the Dynamics of a Fire in a Two-...  40.404689  -91.382416   \n",
       "\n",
       "  Color                       Type       Date  \\\n",
       "0  Navy                  LODD/LODI   2-Nov-12   \n",
       "1  Navy                  LODD/LODI   2-Jun-11   \n",
       "2  Navy                  LODD/LODI  24-Feb-12   \n",
       "3  Navy                  LODD/LODI  12-Apr-09   \n",
       "4   Red  LODD/LODI & Civilian Loss  22-Dec-99   \n",
       "\n",
       "                                              Report  \n",
       "0             http://dx.doi.org/10.6028/NIST.TN.1838  \n",
       "1             http://dx.doi.org/10.6028/NIST.TN.1856  \n",
       "2             http://dx.doi.org/10.6028/NIST.TN.1870  \n",
       "3  http://www.nist.gov/customcf/get_pdf.cfm?pub_i...  \n",
       "4  http://www.nist.gov/customcf/get_pdf.cfm?pub_i...  "
      ]
     },
     "execution_count": 2,
     "metadata": {},
     "output_type": "execute_result"
    }
   ],
   "source": [
    "data = pd.read_csv('study_data.csv')\n",
    "data.head()"
   ]
  },
  {
   "cell_type": "markdown",
   "metadata": {},
   "source": [
    "The addresses of the fires were geocoded using GoogleV3 geocoder to generate the lattitude and longitude for each fire. The studies were then coded into one of four categories: <span style=\"color:blue\">LODD/LODI</span> (a fire with a firefighter Line of Duty Death or Line of Duty Injury), <span style=\"color:green\">Civilian Loss</span>, <span style=\"color:orange\">WUI</span> (wildland urban interface fire) or <span style=\"color:red\">LODD/LODI and Civilian Loss</span>. The data file also includes the NIST hosting link of the report so that we can link to it through first class bokeh features.\n",
    "\n",
    "___\n",
    "\n",
    "# The next step is to load in a simple map.\n",
    "The latitude, longitude, and zoom are set to view all of the United States and Puerto Rico.  "
   ]
  },
  {
   "cell_type": "code",
   "execution_count": 3,
   "metadata": {
    "collapsed": false
   },
   "outputs": [],
   "source": [
    "x_range = Range1d()\n",
    "y_range = Range1d()\n",
    "\n",
    "map_options = GMapOptions(lat=39., lng=-98, zoom=3)\n",
    "\n",
    "plot = GMapPlot(\n",
    "    x_range=x_range, y_range=y_range,\n",
    "    map_options=map_options,\n",
    "    title = \"NIST Fire Studies\", plot_width=875, plot_height=500\n",
    ")\n",
    "plot.map_options.map_type=\"terrain\""
   ]
  },
  {
   "cell_type": "markdown",
   "metadata": {},
   "source": [
    "# Adding Interaction\n",
    "\n",
    "We wanted the the study name, type, and date of the fire to be available upon hover. Second, we wanted the glyphs to be clickable to direct users to the full study reports (the main purpose of this exercise)."
   ]
  },
  {
   "cell_type": "code",
   "execution_count": 4,
   "metadata": {
    "collapsed": true
   },
   "outputs": [],
   "source": [
    "source = ColumnDataSource({'lat':data['Latitude'],'lon':data['Longitude'],'studys': data['Study'],\n",
    "                           'report': data['Report'],'fill':data['Color'],'type':data['Type'],'date':data['Date']})\n",
    "circle = Circle(x=\"lon\",y=\"lat\",size=15,fill_color=\"fill\")\n",
    "plot.add_glyph(source, circle)\n",
    "\n",
    "pan = PanTool()\n",
    "wheel_zoom = WheelZoomTool()\n",
    "hover = HoverTool()\n",
    "hover.tooltips = [('Study Title','@studys'),('Date','@date'),('Type','@type')]\n",
    "tap = TapTool()\n",
    "url = \"@report\"\n",
    "TapTool.callback = OpenURL(url=url)\n",
    "\n",
    "plot.add_tools(pan,wheel_zoom,hover,tap)"
   ]
  },
  {
   "cell_type": "code",
   "execution_count": 5,
   "metadata": {
    "collapsed": false,
    "scrolled": false
   },
   "outputs": [
    {
     "data": {
      "text/html": [
       "\n",
       "\n",
       "    <div class=\"plotdiv\" id=\"713123ae-7923-4ccb-a33c-a4acea487586\"></div>\n",
       "<script type=\"text/javascript\">\n",
       "  \n",
       "  (function(global) {\n",
       "    function now() {\n",
       "      return new Date();\n",
       "    }\n",
       "  \n",
       "    if (typeof (window._bokeh_onload_callbacks) === \"undefined\") {\n",
       "      window._bokeh_onload_callbacks = [];\n",
       "    }\n",
       "  \n",
       "    function run_callbacks() {\n",
       "      window._bokeh_onload_callbacks.forEach(function(callback) { callback() });\n",
       "      delete window._bokeh_onload_callbacks\n",
       "      console.info(\"Bokeh: all callbacks have finished\");\n",
       "    }\n",
       "  \n",
       "    function load_libs(js_urls, callback) {\n",
       "      window._bokeh_onload_callbacks.push(callback);\n",
       "      if (window._bokeh_is_loading > 0) {\n",
       "        console.log(\"Bokeh: BokehJS is being loaded, scheduling callback at\", now());\n",
       "        return null;\n",
       "      }\n",
       "      if (js_urls == null || js_urls.length === 0) {\n",
       "        run_callbacks();\n",
       "        return null;\n",
       "      }\n",
       "      console.log(\"Bokeh: BokehJS not loaded, scheduling load and callback at\", now());\n",
       "      window._bokeh_is_loading = js_urls.length;\n",
       "      for (var i = 0; i < js_urls.length; i++) {\n",
       "        var url = js_urls[i];\n",
       "        var s = document.createElement('script');\n",
       "        s.src = url;\n",
       "        s.async = false;\n",
       "        s.onreadystatechange = s.onload = function() {\n",
       "          window._bokeh_is_loading--;\n",
       "          if (window._bokeh_is_loading === 0) {\n",
       "            console.log(\"Bokeh: all BokehJS libraries loaded\");\n",
       "            run_callbacks()\n",
       "          }\n",
       "        };\n",
       "        s.onerror = function() {\n",
       "          console.warn(\"failed to load library \" + url);\n",
       "        };\n",
       "        console.log(\"Bokeh: injecting script tag for BokehJS library: \", url);\n",
       "        document.getElementsByTagName(\"head\")[0].appendChild(s);\n",
       "      }\n",
       "    };var element = document.getElementById(\"713123ae-7923-4ccb-a33c-a4acea487586\");\n",
       "    if (element == null) {\n",
       "      console.log(\"Bokeh: ERROR: autoload.js configured with elementid '713123ae-7923-4ccb-a33c-a4acea487586' but no matching script tag was found. \")\n",
       "      return false;\n",
       "    }var js_urls = [];\n",
       "  \n",
       "    var inline_js = [\n",
       "      function(Bokeh) {\n",
       "        Bokeh.$(function() {\n",
       "            var docs_json = {\"7ba41dc1-92ce-4bd2-9457-30c411eb93fe\": {\"roots\": {\"root_ids\": [\"01507d95-eb55-4164-8854-365063cc88f2\"], \"references\": [{\"id\": \"c9eb6f56-77c9-46aa-b49a-01d50badc602\", \"attributes\": {\"nonselection_glyph\": null, \"data_source\": {\"id\": \"dd1aeba0-b48f-45e1-9031-ad1bb44ce99d\", \"type\": \"ColumnDataSource\"}, \"glyph\": {\"id\": \"5eefdc2c-816a-44a3-8825-b66bef462c5f\", \"type\": \"Circle\"}, \"hover_glyph\": null, \"selection_glyph\": null}, \"type\": \"GlyphRenderer\"}, {\"id\": \"a1db5c4e-b9b1-4cc2-8d14-458cafd74dc8\", \"attributes\": {\"callback\": null}, \"type\": \"Range1d\"}, {\"id\": \"dd1aeba0-b48f-45e1-9031-ad1bb44ce99d\", \"attributes\": {\"column_names\": [\"report\", \"lat\", \"lon\", \"date\", \"type\", \"studys\", \"fill\"], \"callback\": null, \"data\": {\"report\": [\"http://dx.doi.org/10.6028/NIST.TN.1838\", \"http://dx.doi.org/10.6028/NIST.TN.1856\", \"http://dx.doi.org/10.6028/NIST.TN.1870\", \"http://www.nist.gov/customcf/get_pdf.cfm?pub_id=909779\", \"http://www.nist.gov/customcf/get_pdf.cfm?pub_id=861122\", \"http://www.nist.gov/customcf/get_pdf.cfm?pub_id=100988\", \"http://dx.doi.org/10.6028/NIST.SP.1118v1\", \"http://www.nist.gov/customcf/get_pdf.cfm?pub_id=908719\", \"http://www.nist.gov/customcf/get_pdf.cfm?pub_id=902864\", \"http://www.nist.gov/customcf/get_pdf.cfm?pub_id=861327\", \"http://www.nist.gov/el/disasterstudies/wtc/index.cfm\", \"http://www.nist.gov/customcf/get_pdf.cfm?pub_id=861312\", \"http://www.nist.gov/customcf/get_pdf.cfm?pub_id=861191\", \"http://www.nist.gov/customcf/get_pdf.cfm?pub_id=908795\", \"http://www.nist.gov/customcf/get_pdf.cfm?pub_id=908806\", \"http://www.nist.gov/customcf/get_pdf.cfm?pub_id=908807\", \"http://www.nist.gov/customcf/get_pdf.cfm?pub_id=908808\", \"http://nvlpubs.nist.gov/nistpubs/TechnicalNotes/NIST.TN.1910.pdf\"], \"lat\": [41.80208806, 37.73950476, 38.96589095, 29.6794896, 40.40468872, 41.68479358, 32.78837302, 35.22199828, 33.0186473, 41.88322343, 40.71124257, 40.77211517, 29.67759679, 38.92694858, 40.838773700000004, 34.049167, 18.456111, 38.8338816], \"lon\": [-87.68198118, -122.4392232, -76.9177536, -95.28232909, -91.38241645, -71.51070059, -80.02222553, -101.8312983, -117.0608673, -87.62998032, -74.01438639, -73.92879477, -95.60071313, -76.96227182, -73.88685459999999, -118.25694399999999, -66.070278, -104.82136340000001], \"date\": [\"2-Nov-12\", \"2-Jun-11\", \"24-Feb-12\", \"12-Apr-09\", \"22-Dec-99\", \"20-Feb-03\", \"18-Jun-07\", \"27-Feb-11\", \"21-Oct-07\", \"17-Oct-03\", \"11-Sep-01\", \"17-Jun-01\", \"14-Feb-00\", \"30-May-99\", \"31-Dec-92\", \"4-May-88\", \"31-Dec-86\", \"22-Jun-12\"], \"type\": [\"LODD/LODI\", \"LODD/LODI\", \"LODD/LODI\", \"LODD/LODI\", \"LODD/LODI & Civilian Loss\", \"Civilian Loss\", \"LODD/LODI\", \"WUI\", \"WUI\", \"Civilian Loss\", \"LODD/LODI & Civilian Loss\", \"LODD/LODI\", \"LODD/LODI\", \"LODD/LODI\", \"Civilian Loss\", \"Civilian Loss\", \"Civilian Loss\", \"WUI\"], \"studys\": [\"Simulation of an Attic Fire in a Wood Frame Residential Structure - Chicago, IL\", \"Simulation of a Fire in a Hillside Residential Structure - San Francisco, CA\", \"Simulation of a Residential Wind Driven Basement Fire - Riverdale Heights, MD\", \"Simulation of the Dynamics of a Wind-Driven Fire in a Ranch-Style House - Texas\", \"Simulation of the Dynamics of a Fire in a Two-Story Duplex - Iowa\", \"Report of the Technical Investigation of The Station Nightclub Fire\", \"Technical Study of the Sofa Super Store Fire, South Carolina\", \"Initial Reconnaissance of the 2011 Wildland-Urban Interfaces Fires in Amarillo, Texas\", \"A Case Study of a Community Affected by the Witch and Guejito Fires\", \"Cook County Administration Building Fire, 69 West Washington, Chicago, Illinois\", \"World Trade Center Disaster Study\", \"Simulation of the Dynamics of a Fire in the Basement of a Hardware Store\", \"Simulation of the Dynamics of a Fire in a One-Story Restaurant\", \"Simulation of the Dynamics of the Fire at 3146 Cherry Road NE Washington D.C.\", \"Analysis of the Happyland Social Club Fire With HAZARD I\", \"First Interstate Bank Building Fire, California, 1988\", \"The Fire at the Dupont Plaza Hotel and Casino\", \"A Case Study of a Community Affected by the Waldo Fire\"], \"fill\": [\"Navy\", \"Navy\", \"Navy\", \"Navy\", \"Red\", \"Green\", \"Navy\", \"Orange\", \"Orange\", \"Green\", \"Red\", \"Navy\", \"Navy\", \"Navy\", \"Green\", \"Green\", \"Green\", \"Orange\"]}}, \"type\": \"ColumnDataSource\"}, {\"id\": \"8a63ac50-3a6c-423a-b628-c31eeae40062\", \"attributes\": {\"plot\": {\"id\": \"01507d95-eb55-4164-8854-365063cc88f2\", \"type\": \"GMapPlot\"}}, \"type\": \"PanTool\"}, {\"id\": \"3864fe6a-9629-4e2e-a860-b9aab5ef0926\", \"attributes\": {\"plot\": {\"id\": \"01507d95-eb55-4164-8854-365063cc88f2\", \"type\": \"GMapPlot\"}}, \"type\": \"TapTool\"}, {\"id\": \"01507d95-eb55-4164-8854-365063cc88f2\", \"attributes\": {\"y_range\": {\"id\": \"d3119392-c68f-4035-85e6-0972d35bc79e\", \"type\": \"Range1d\"}, \"tool_events\": {\"id\": \"07f4430e-961f-4917-8caa-ff33d463664f\", \"type\": \"ToolEvents\"}, \"tools\": [{\"id\": \"8a63ac50-3a6c-423a-b628-c31eeae40062\", \"type\": \"PanTool\"}, {\"id\": \"a6b4b3db-d401-4575-aad7-721f53a8365c\", \"type\": \"WheelZoomTool\"}, {\"id\": \"1c377011-a2b2-4686-8366-71ca319b7266\", \"type\": \"HoverTool\"}, {\"id\": \"3864fe6a-9629-4e2e-a860-b9aab5ef0926\", \"type\": \"TapTool\"}], \"title\": \"NIST Fire Studies\", \"plot_width\": 875, \"plot_height\": 500, \"renderers\": [{\"id\": \"c9eb6f56-77c9-46aa-b49a-01d50badc602\", \"type\": \"GlyphRenderer\"}], \"map_options\": {\"map_type\": \"terrain\", \"zoom\": 3, \"lng\": -98, \"lat\": 39.0}, \"x_range\": {\"id\": \"a1db5c4e-b9b1-4cc2-8d14-458cafd74dc8\", \"type\": \"Range1d\"}}, \"type\": \"GMapPlot\"}, {\"id\": \"b4d20271-f2ce-4b57-ad77-8aad66df3d9d\", \"attributes\": {\"url\": \"@report\"}, \"type\": \"OpenURL\"}, {\"id\": \"a6b4b3db-d401-4575-aad7-721f53a8365c\", \"attributes\": {\"plot\": {\"id\": \"01507d95-eb55-4164-8854-365063cc88f2\", \"type\": \"GMapPlot\"}}, \"type\": \"WheelZoomTool\"}, {\"id\": \"1c377011-a2b2-4686-8366-71ca319b7266\", \"attributes\": {\"plot\": {\"id\": \"01507d95-eb55-4164-8854-365063cc88f2\", \"type\": \"GMapPlot\"}, \"callback\": null, \"tooltips\": [[\"Study Title\", \"@studys\"], [\"Date\", \"@date\"], [\"Type\", \"@type\"]]}, \"type\": \"HoverTool\"}, {\"id\": \"5eefdc2c-816a-44a3-8825-b66bef462c5f\", \"attributes\": {\"size\": {\"units\": \"screen\", \"value\": 15}, \"y\": {\"field\": \"lat\"}, \"fill_color\": {\"field\": \"fill\"}, \"x\": {\"field\": \"lon\"}}, \"type\": \"Circle\"}, {\"id\": \"07f4430e-961f-4917-8caa-ff33d463664f\", \"attributes\": {}, \"type\": \"ToolEvents\"}, {\"id\": \"d3119392-c68f-4035-85e6-0972d35bc79e\", \"attributes\": {\"callback\": null}, \"type\": \"Range1d\"}]}, \"version\": \"0.11.0\", \"title\": \"Bokeh Application\"}};\n",
       "            var render_items = [{\"modelid\": \"01507d95-eb55-4164-8854-365063cc88f2\", \"elementid\": \"713123ae-7923-4ccb-a33c-a4acea487586\", \"docid\": \"7ba41dc1-92ce-4bd2-9457-30c411eb93fe\", \"notebook_comms_target\": \"060f503b-5f4b-4abf-a548-5925eb472d0f\"}];\n",
       "            \n",
       "            Bokeh.embed.embed_items(docs_json, render_items);\n",
       "        });\n",
       "      },\n",
       "      function(Bokeh) {\n",
       "      }\n",
       "    ];\n",
       "  \n",
       "    function run_inline_js() {\n",
       "      for (var i = 0; i < inline_js.length; i++) {\n",
       "        inline_js[i](window.Bokeh);\n",
       "      }\n",
       "    }\n",
       "  \n",
       "    if (window._bokeh_is_loading === 0) {\n",
       "      console.log(\"Bokeh: BokehJS loaded, going straight to plotting\");\n",
       "      run_inline_js();\n",
       "    } else {\n",
       "      load_libs(js_urls, function() {\n",
       "        console.log(\"Bokeh: BokehJS plotting callback run at\", now());\n",
       "        run_inline_js();\n",
       "      });\n",
       "    }\n",
       "  }(this));\n",
       "</script>"
      ]
     },
     "metadata": {},
     "output_type": "display_data"
    },
    {
     "data": {
      "text/plain": [
       "<bokeh.io._CommsHandle at 0x109b4d710>"
      ]
     },
     "execution_count": 5,
     "metadata": {},
     "output_type": "execute_result"
    }
   ],
   "source": [
    "show(plot)"
   ]
  },
  {
   "cell_type": "markdown",
   "metadata": {
    "collapsed": true
   },
   "source": [
    "This is clearly a simple example, but that is point. It highlights the power and major appeal of Bokeh. The final product is an interative map that clearly highlights where prior fires have been studied by NIST researchers, with minial coding overhead."
   ]
  },
  {
   "cell_type": "code",
   "execution_count": null,
   "metadata": {
    "collapsed": true
   },
   "outputs": [],
   "source": []
  }
 ],
 "metadata": {
  "kernelspec": {
   "display_name": "Python 3",
   "language": "python",
   "name": "python3"
  },
  "language_info": {
   "codemirror_mode": {
    "name": "ipython",
    "version": 3
   },
   "file_extension": ".py",
   "mimetype": "text/x-python",
   "name": "python",
   "nbconvert_exporter": "python",
   "pygments_lexer": "ipython3",
   "version": "3.4.3"
  }
 },
 "nbformat": 4,
 "nbformat_minor": 0
}
