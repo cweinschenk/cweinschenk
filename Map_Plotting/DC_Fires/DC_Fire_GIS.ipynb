{
 "cells": [
  {
   "cell_type": "code",
   "execution_count": 1,
   "metadata": {
    "collapsed": false
   },
   "outputs": [
    {
     "data": {
      "text/html": [
       "\n",
       "\n",
       "    <script type=\"text/javascript\">\n",
       "      \n",
       "      (function(global) {\n",
       "        function now() {\n",
       "          return new Date();\n",
       "        }\n",
       "      \n",
       "        if (typeof (window._bokeh_onload_callbacks) === \"undefined\") {\n",
       "          window._bokeh_onload_callbacks = [];\n",
       "        }\n",
       "      \n",
       "        function run_callbacks() {\n",
       "          window._bokeh_onload_callbacks.forEach(function(callback) { callback() });\n",
       "          delete window._bokeh_onload_callbacks\n",
       "          console.info(\"Bokeh: all callbacks have finished\");\n",
       "        }\n",
       "      \n",
       "        function load_libs(js_urls, callback) {\n",
       "          window._bokeh_onload_callbacks.push(callback);\n",
       "          if (window._bokeh_is_loading > 0) {\n",
       "            console.log(\"Bokeh: BokehJS is being loaded, scheduling callback at\", now());\n",
       "            return null;\n",
       "          }\n",
       "          if (js_urls == null || js_urls.length === 0) {\n",
       "            run_callbacks();\n",
       "            return null;\n",
       "          }\n",
       "          console.log(\"Bokeh: BokehJS not loaded, scheduling load and callback at\", now());\n",
       "          window._bokeh_is_loading = js_urls.length;\n",
       "          for (var i = 0; i < js_urls.length; i++) {\n",
       "            var url = js_urls[i];\n",
       "            var s = document.createElement('script');\n",
       "            s.src = url;\n",
       "            s.async = false;\n",
       "            s.onreadystatechange = s.onload = function() {\n",
       "              window._bokeh_is_loading--;\n",
       "              if (window._bokeh_is_loading === 0) {\n",
       "                console.log(\"Bokeh: all BokehJS libraries loaded\");\n",
       "                run_callbacks()\n",
       "              }\n",
       "            };\n",
       "            s.onerror = function() {\n",
       "              console.warn(\"failed to load library \" + url);\n",
       "            };\n",
       "            console.log(\"Bokeh: injecting script tag for BokehJS library: \", url);\n",
       "            document.getElementsByTagName(\"head\")[0].appendChild(s);\n",
       "          }\n",
       "        };var js_urls = ['https://cdn.pydata.org/bokeh/release/bokeh-0.11.0.min.js', 'https://cdn.pydata.org/bokeh/release/bokeh-widgets-0.11.0.min.js', 'https://cdn.pydata.org/bokeh/release/bokeh-compiler-0.11.0.min.js'];\n",
       "      \n",
       "        var inline_js = [\n",
       "          function(Bokeh) {\n",
       "            Bokeh.set_log_level(\"info\");\n",
       "          },\n",
       "          function(Bokeh) {\n",
       "            console.log(\"Bokeh: injecting CSS: https://cdn.pydata.org/bokeh/release/bokeh-0.11.0.min.css\");\n",
       "            Bokeh.embed.inject_css(\"https://cdn.pydata.org/bokeh/release/bokeh-0.11.0.min.css\");\n",
       "            console.log(\"Bokeh: injecting CSS: https://cdn.pydata.org/bokeh/release/bokeh-widgets-0.11.0.min.css\");\n",
       "            Bokeh.embed.inject_css(\"https://cdn.pydata.org/bokeh/release/bokeh-widgets-0.11.0.min.css\");\n",
       "          }\n",
       "        ];\n",
       "      \n",
       "        function run_inline_js() {\n",
       "          for (var i = 0; i < inline_js.length; i++) {\n",
       "            inline_js[i](window.Bokeh);\n",
       "          }\n",
       "        }\n",
       "      \n",
       "        if (window._bokeh_is_loading === 0) {\n",
       "          console.log(\"Bokeh: BokehJS loaded, going straight to plotting\");\n",
       "          run_inline_js();\n",
       "        } else {\n",
       "          load_libs(js_urls, function() {\n",
       "            console.log(\"Bokeh: BokehJS plotting callback run at\", now());\n",
       "            run_inline_js();\n",
       "          });\n",
       "        }\n",
       "      }(this));\n",
       "    </script>\n",
       "    <div>\n",
       "        <a href=\"http://bokeh.pydata.org\" target=\"_blank\" class=\"bk-logo bk-logo-small bk-logo-notebook\"></a>\n",
       "        <span>BokehJS successfully loaded.</span>\n",
       "    </div>"
      ]
     },
     "metadata": {},
     "output_type": "display_data"
    }
   ],
   "source": [
    "import pandas as pd\n",
    "import numpy as np\n",
    "import matplotlib.pyplot as plt\n",
    "from geopandas import GeoSeries, GeoDataFrame\n",
    "from shapely.geometry import Point, Polygon, MultiPoint, MultiPolygon\n",
    "from shapely.prepared import prep\n",
    "from bokeh.models import ColumnDataSource, Patches, HoverTool, TapTool, Plot, Range1d\n",
    "from bokeh.plotting import figure, show, output_notebook\n",
    "output_notebook()"
   ]
  },
  {
   "cell_type": "code",
   "execution_count": 2,
   "metadata": {
    "collapsed": false,
    "scrolled": true
   },
   "outputs": [
    {
     "data": {
      "text/html": [
       "<div>\n",
       "<table border=\"1\" class=\"dataframe\">\n",
       "  <thead>\n",
       "    <tr style=\"text-align: right;\">\n",
       "      <th></th>\n",
       "      <th>NAME</th>\n",
       "      <th>NBH_NAMES</th>\n",
       "      <th>OBJECTID</th>\n",
       "      <th>SHAPE_Area</th>\n",
       "      <th>SHAPE_Length</th>\n",
       "      <th>WEB_URL</th>\n",
       "      <th>geometry</th>\n",
       "    </tr>\n",
       "  </thead>\n",
       "  <tbody>\n",
       "    <tr>\n",
       "      <th>0</th>\n",
       "      <td>Cluster 39</td>\n",
       "      <td>Congress Heights, Bellevue, Washington Highlands</td>\n",
       "      <td>1</td>\n",
       "      <td>4887587.842320</td>\n",
       "      <td>10719.614725</td>\n",
       "      <td>http://planning.dc.gov/</td>\n",
       "      <td>POLYGON ((-77.01389426988646 38.82865056750391...</td>\n",
       "    </tr>\n",
       "    <tr>\n",
       "      <th>1</th>\n",
       "      <td>Cluster 38</td>\n",
       "      <td>Douglas, Shipley Terrace</td>\n",
       "      <td>2</td>\n",
       "      <td>2370929.441790</td>\n",
       "      <td>8233.450913</td>\n",
       "      <td>http://planning.dc.gov/</td>\n",
       "      <td>POLYGON ((-76.99291178387195 38.85390625018695...</td>\n",
       "    </tr>\n",
       "    <tr>\n",
       "      <th>2</th>\n",
       "      <td>Cluster 36</td>\n",
       "      <td>Woodland/Fort Stanton, Garfield Heights, Knox ...</td>\n",
       "      <td>3</td>\n",
       "      <td>1119573.063962</td>\n",
       "      <td>4746.344538</td>\n",
       "      <td>http://planning.dc.gov/</td>\n",
       "      <td>POLYGON ((-76.97714019966327 38.85727998162274...</td>\n",
       "    </tr>\n",
       "    <tr>\n",
       "      <th>3</th>\n",
       "      <td>Cluster 27</td>\n",
       "      <td>Near Southeast, Navy Yard</td>\n",
       "      <td>4</td>\n",
       "      <td>1619166.846789</td>\n",
       "      <td>7286.968935</td>\n",
       "      <td>http://planning.dc.gov/</td>\n",
       "      <td>POLYGON ((-76.97936283229114 38.87755461953095...</td>\n",
       "    </tr>\n",
       "    <tr>\n",
       "      <th>4</th>\n",
       "      <td>Cluster 32</td>\n",
       "      <td>River Terrace, Benning, Greenway, Dupont Park</td>\n",
       "      <td>5</td>\n",
       "      <td>4286976.980060</td>\n",
       "      <td>11258.342225</td>\n",
       "      <td>http://planning.dc.gov/</td>\n",
       "      <td>POLYGON ((-76.93760147029884 38.88995958845386...</td>\n",
       "    </tr>\n",
       "  </tbody>\n",
       "</table>\n",
       "</div>"
      ],
      "text/plain": [
       "         NAME                                          NBH_NAMES  OBJECTID  \\\n",
       "0  Cluster 39   Congress Heights, Bellevue, Washington Highlands         1   \n",
       "1  Cluster 38                           Douglas, Shipley Terrace         2   \n",
       "2  Cluster 36  Woodland/Fort Stanton, Garfield Heights, Knox ...         3   \n",
       "3  Cluster 27                          Near Southeast, Navy Yard         4   \n",
       "4  Cluster 32      River Terrace, Benning, Greenway, Dupont Park         5   \n",
       "\n",
       "       SHAPE_Area  SHAPE_Length                  WEB_URL  \\\n",
       "0  4887587.842320  10719.614725  http://planning.dc.gov/   \n",
       "1  2370929.441790   8233.450913  http://planning.dc.gov/   \n",
       "2  1119573.063962   4746.344538  http://planning.dc.gov/   \n",
       "3  1619166.846789   7286.968935  http://planning.dc.gov/   \n",
       "4  4286976.980060  11258.342225  http://planning.dc.gov/   \n",
       "\n",
       "                                            geometry  \n",
       "0  POLYGON ((-77.01389426988646 38.82865056750391...  \n",
       "1  POLYGON ((-76.99291178387195 38.85390625018695...  \n",
       "2  POLYGON ((-76.97714019966327 38.85727998162274...  \n",
       "3  POLYGON ((-76.97936283229114 38.87755461953095...  \n",
       "4  POLYGON ((-76.93760147029884 38.88995958845386...  "
      ]
     },
     "execution_count": 2,
     "metadata": {},
     "output_type": "execute_result"
    }
   ],
   "source": [
    "## Read from json and convert to np arrays\n",
    "map_data = GeoDataFrame.from_file('Neighborhood_Clusters.geojson')\n",
    "map_data.head()"
   ]
  },
  {
   "cell_type": "markdown",
   "metadata": {},
   "source": [
    "Load in NFIRS and CAD data for community."
   ]
  },
  {
   "cell_type": "code",
   "execution_count": 3,
   "metadata": {
    "collapsed": false,
    "scrolled": true
   },
   "outputs": [],
   "source": [
    "data = pd.read_csv('DC_CAD_FY1415.csv') # read in CAD data\n",
    "nfirs = pd.read_csv('DC_NFIRS_FY1415.csv') # read in NFIRS data\n",
    "merged_data = pd.merge(left=data,right=nfirs, left_on='num_1', right_on='num_1') # merge nfirs and cad based on incident number\n",
    "data = merged_data[pd.to_numeric(merged_data['incidenttype'],errors='coerce')<130] # select only structure fires\n",
    "data = data[data['num_1'].str.contains(\"F14\")] #sliced year data"
   ]
  },
  {
   "cell_type": "markdown",
   "metadata": {},
   "source": [
    "Take geospatial fire data and place it appropriate polygon."
   ]
  },
  {
   "cell_type": "code",
   "execution_count": 4,
   "metadata": {
    "collapsed": false
   },
   "outputs": [],
   "source": [
    "mapped_points = GeoSeries([Point(mapped_x, mapped_y) for mapped_x, mapped_y in zip(data['longitude'],data['latitude'])])\n",
    "all_points = MultiPoint(mapped_points)\n",
    "all_polygons = prep(MultiPolygon(list(map_data['geometry'].values)))\n",
    "city_points = list(filter(all_polygons.contains, all_points))\n",
    "def num_of_contained_points(apolygon, city_points):\n",
    "    return int(len(list(filter(prep(apolygon).contains, city_points))))\n",
    "\n",
    "map_data['hood_count'] = map_data['geometry'].apply(num_of_contained_points, args=(city_points,)) #counts number of fires per neighborhood"
   ]
  },
  {
   "cell_type": "markdown",
   "metadata": {},
   "source": [
    "Color bins based on number of fires in each bin."
   ]
  },
  {
   "cell_type": "code",
   "execution_count": 5,
   "metadata": {
    "collapsed": false
   },
   "outputs": [],
   "source": [
    "color_split = int(max(map_data['hood_count'])/5)\n",
    "colors = [\"#F1EEF6\", \"#D4B9DA\", \"#C994C7\", \"#DF65B0\", \"#DD1C77\", \"#980043\"]\n",
    "hood_colors =[]\n",
    "for i in range(len(map_data['NBH_NAMES'])):\n",
    "    idx = min(int(np.around(map_data.iloc[i]['hood_count']/color_split)),5)\n",
    "    hood_colors.append(colors[idx])\n",
    "map_data['hood_colors']=hood_colors"
   ]
  },
  {
   "cell_type": "markdown",
   "metadata": {},
   "source": [
    "Write appended data file out to new geojson file."
   ]
  },
  {
   "cell_type": "code",
   "execution_count": 6,
   "metadata": {
    "collapsed": false
   },
   "outputs": [
    {
     "name": "stderr",
     "output_type": "stream",
     "text": [
      "WARNING:Fiona:CPLE_NotSupported in b'dataset /Users/cgw/cweinschenk/Map_Plotting/DC_Fires/DC_Fires.geojson does not support layer creation option ENCODING'\n"
     ]
    }
   ],
   "source": [
    "map_data.to_file('DC_Fires.geojson', driver=\"GeoJSON\")"
   ]
  },
  {
   "cell_type": "markdown",
   "metadata": {},
   "source": [
    "Check to  make sure new file loads and looks correct."
   ]
  },
  {
   "cell_type": "code",
   "execution_count": 7,
   "metadata": {
    "collapsed": false
   },
   "outputs": [
    {
     "data": {
      "text/html": [
       "<div>\n",
       "<table border=\"1\" class=\"dataframe\">\n",
       "  <thead>\n",
       "    <tr style=\"text-align: right;\">\n",
       "      <th></th>\n",
       "      <th>NAME</th>\n",
       "      <th>NBH_NAMES</th>\n",
       "      <th>OBJECTID</th>\n",
       "      <th>SHAPE_Area</th>\n",
       "      <th>SHAPE_Length</th>\n",
       "      <th>WEB_URL</th>\n",
       "      <th>geometry</th>\n",
       "      <th>hood_colors</th>\n",
       "      <th>hood_count</th>\n",
       "    </tr>\n",
       "  </thead>\n",
       "  <tbody>\n",
       "    <tr>\n",
       "      <th>0</th>\n",
       "      <td>Cluster 39</td>\n",
       "      <td>Congress Heights, Bellevue, Washington Highlands</td>\n",
       "      <td>1</td>\n",
       "      <td>4887587.842320</td>\n",
       "      <td>10719.614725</td>\n",
       "      <td>http://planning.dc.gov/</td>\n",
       "      <td>POLYGON ((-77.01389426988646 38.82865056750391...</td>\n",
       "      <td>#980043</td>\n",
       "      <td>84</td>\n",
       "    </tr>\n",
       "    <tr>\n",
       "      <th>1</th>\n",
       "      <td>Cluster 38</td>\n",
       "      <td>Douglas, Shipley Terrace</td>\n",
       "      <td>2</td>\n",
       "      <td>2370929.441790</td>\n",
       "      <td>8233.450913</td>\n",
       "      <td>http://planning.dc.gov/</td>\n",
       "      <td>POLYGON ((-76.99291178387195 38.85390625018695...</td>\n",
       "      <td>#DF65B0</td>\n",
       "      <td>57</td>\n",
       "    </tr>\n",
       "    <tr>\n",
       "      <th>2</th>\n",
       "      <td>Cluster 36</td>\n",
       "      <td>Woodland/Fort Stanton, Garfield Heights, Knox ...</td>\n",
       "      <td>3</td>\n",
       "      <td>1119573.063962</td>\n",
       "      <td>4746.344538</td>\n",
       "      <td>http://planning.dc.gov/</td>\n",
       "      <td>POLYGON ((-76.97714019966327 38.85727998162274...</td>\n",
       "      <td>#C994C7</td>\n",
       "      <td>28</td>\n",
       "    </tr>\n",
       "    <tr>\n",
       "      <th>3</th>\n",
       "      <td>Cluster 27</td>\n",
       "      <td>Near Southeast, Navy Yard</td>\n",
       "      <td>4</td>\n",
       "      <td>1619166.846789</td>\n",
       "      <td>7286.968935</td>\n",
       "      <td>http://planning.dc.gov/</td>\n",
       "      <td>POLYGON ((-76.97936283229114 38.87755461953095...</td>\n",
       "      <td>#F1EEF6</td>\n",
       "      <td>7</td>\n",
       "    </tr>\n",
       "    <tr>\n",
       "      <th>4</th>\n",
       "      <td>Cluster 32</td>\n",
       "      <td>River Terrace, Benning, Greenway, Dupont Park</td>\n",
       "      <td>5</td>\n",
       "      <td>4286976.980060</td>\n",
       "      <td>11258.342225</td>\n",
       "      <td>http://planning.dc.gov/</td>\n",
       "      <td>POLYGON ((-76.93760147029884 38.88995958845386...</td>\n",
       "      <td>#C994C7</td>\n",
       "      <td>32</td>\n",
       "    </tr>\n",
       "  </tbody>\n",
       "</table>\n",
       "</div>"
      ],
      "text/plain": [
       "         NAME                                          NBH_NAMES  OBJECTID  \\\n",
       "0  Cluster 39   Congress Heights, Bellevue, Washington Highlands         1   \n",
       "1  Cluster 38                           Douglas, Shipley Terrace         2   \n",
       "2  Cluster 36  Woodland/Fort Stanton, Garfield Heights, Knox ...         3   \n",
       "3  Cluster 27                          Near Southeast, Navy Yard         4   \n",
       "4  Cluster 32      River Terrace, Benning, Greenway, Dupont Park         5   \n",
       "\n",
       "       SHAPE_Area  SHAPE_Length                  WEB_URL  \\\n",
       "0  4887587.842320  10719.614725  http://planning.dc.gov/   \n",
       "1  2370929.441790   8233.450913  http://planning.dc.gov/   \n",
       "2  1119573.063962   4746.344538  http://planning.dc.gov/   \n",
       "3  1619166.846789   7286.968935  http://planning.dc.gov/   \n",
       "4  4286976.980060  11258.342225  http://planning.dc.gov/   \n",
       "\n",
       "                                            geometry hood_colors  hood_count  \n",
       "0  POLYGON ((-77.01389426988646 38.82865056750391...     #980043          84  \n",
       "1  POLYGON ((-76.99291178387195 38.85390625018695...     #DF65B0          57  \n",
       "2  POLYGON ((-76.97714019966327 38.85727998162274...     #C994C7          28  \n",
       "3  POLYGON ((-76.97936283229114 38.87755461953095...     #F1EEF6           7  \n",
       "4  POLYGON ((-76.93760147029884 38.88995958845386...     #C994C7          32  "
      ]
     },
     "execution_count": 7,
     "metadata": {},
     "output_type": "execute_result"
    }
   ],
   "source": [
    "map_data2 = GeoDataFrame.from_file('DC_Fires.geojson')\n",
    "map_data2.head()"
   ]
  },
  {
   "cell_type": "code",
   "execution_count": null,
   "metadata": {
    "collapsed": true
   },
   "outputs": [],
   "source": []
  }
 ],
 "metadata": {
  "kernelspec": {
   "display_name": "Python 3",
   "language": "python",
   "name": "python3"
  },
  "language_info": {
   "codemirror_mode": {
    "name": "ipython",
    "version": 3
   },
   "file_extension": ".py",
   "mimetype": "text/x-python",
   "name": "python",
   "nbconvert_exporter": "python",
   "pygments_lexer": "ipython3",
   "version": "3.4.3"
  }
 },
 "nbformat": 4,
 "nbformat_minor": 0
}
